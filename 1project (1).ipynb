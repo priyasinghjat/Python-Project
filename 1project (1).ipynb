{
 "cells": [
  {
   "cell_type": "code",
   "execution_count": 1,
   "id": "d72d0227",
   "metadata": {},
   "outputs": [],
   "source": [
    "def accept():\n",
    "    name = input(\"Enter Name: \")\n",
    "    roll = int(input(\"Enter Roll No: \"))\n",
    "    marks = int(input(\"Enter marks: \"))\n",
    "    student = {\n",
    "        \"roll_number\": roll,\n",
    "        \"name\": name,\n",
    "        \"marks\":marks\n",
    "    }\n",
    "    return student\n",
    "\n",
    "\n",
    "  \n"
   ]
  },
  {
   "cell_type": "code",
   "execution_count": 2,
   "id": "c29cf875",
   "metadata": {},
   "outputs": [],
   "source": [
    "def display(students):\n",
    "    print(\"Student Data:\")\n",
    "    for student in students:\n",
    "        print(f\"Name: {student['name']}, Roll No: {student['roll_number']}, Marks: {student['marks']}\")"
   ]
  },
  {
   "cell_type": "code",
   "execution_count": 3,
   "id": "2a42c692",
   "metadata": {},
   "outputs": [],
   "source": [
    "def search(students, search_value):\n",
    "    result = [student for student in students if student[\"roll_number\"] == search_value]\n",
    "    if result:\n",
    "        print(\"Search Results:\")\n",
    "        for student in result:\n",
    "            print(f\"Name: {student['name']}, Roll No: {student['roll_number']}, Marks: {student['marks']}\")\n",
    "    else:\n",
    "        print(\"No students found\")"
   ]
  },
  {
   "cell_type": "code",
   "execution_count": 4,
   "id": "6b4b79a6",
   "metadata": {},
   "outputs": [],
   "source": [
    "def update(students, roll_number):\n",
    "    for student in students:\n",
    "        if student[\"roll_number\"] == roll_number:\n",
    "            name = input(\"Enter updated name: \")\n",
    "            marks = int(input(\"Enter updated marks: \"))\n",
    "            student[\"name\"] = name\n",
    "            student[\"marks\"] = marks\n",
    "            \n",
    "            print(\"Student information updated successfully.\")\n",
    "            return\n",
    "    print(\"No student found with the specified roll number.\")"
   ]
  },
  {
   "cell_type": "code",
   "execution_count": 5,
   "id": "08c04628",
   "metadata": {},
   "outputs": [],
   "source": [
    "def delete(students, roll_number):\n",
    "    removed = False\n",
    "    for student in students:\n",
    "        if student[\"roll_number\"] == roll_number:\n",
    "            students.remove(student)\n",
    "            print(f\"Student with roll number {roll_number} removed from the list.\")\n",
    "            removed = True\n",
    "            break\n",
    "    if not removed:\n",
    "        print(\"No student found with the specified roll number.\")\n",
    "\n",
    "students = []"
   ]
  },
  {
   "cell_type": "code",
   "execution_count": null,
   "id": "f3b53858",
   "metadata": {},
   "outputs": [
    {
     "name": "stdout",
     "output_type": "stream",
     "text": [
      "Which function do you want to use?\n",
      "1. Accept\n",
      "2. Display\n",
      "3. Search\n",
      "4. Update\n",
      "5. Delete\n",
      "6. Exit\n",
      "Which function do you want to use?\n",
      "1. Accept\n",
      "2. Display\n",
      "3. Search\n",
      "4. Update\n",
      "5. Delete\n",
      "6. Exit\n"
     ]
    }
   ],
   "source": [
    "while True:\n",
    "    print(\"Which function do you want to use?\")\n",
    "    print(\"1. Accept\")\n",
    "    print(\"2. Display\")\n",
    "    print(\"3. Search\")\n",
    "    print(\"4. Update\")\n",
    "    print(\"5. Delete\")\n",
    "    print(\"6. Exit\")\n",
    "    choice = int(input(\"Enter your choice (1-6): \"))\n",
    "\n",
    "    if choice == 1:\n",
    "        student = accept()\n",
    "        students.append(student)\n",
    "    elif choice == 2:\n",
    "        display(students)\n",
    "    elif choice == 3:\n",
    "        search_value = int(input(\"Enter the roll number to search: \"))\n",
    "        search(students, search_value)\n",
    "    elif choice == 4:\n",
    "        roll_number = int(input(\"Enter the roll number of the student to update: \"))\n",
    "        update(students, roll_number)\n",
    "    elif choice == 5:\n",
    "        roll_number = int(input(\"Enter the roll number of the student to delete: \"))\n",
    "        delete(students, roll_number)\n",
    "    elif choice == 6:\n",
    "        break\n",
    "    else:\n",
    "        print(\"Invalid choice. Please try again.\")"
   ]
  },
  {
   "cell_type": "code",
   "execution_count": null,
   "id": "c9fe8d6e",
   "metadata": {},
   "outputs": [],
   "source": []
  },
  {
   "cell_type": "code",
   "execution_count": null,
   "id": "0f0c61de",
   "metadata": {},
   "outputs": [],
   "source": []
  }
 ],
 "metadata": {
  "kernelspec": {
   "display_name": "Python 3 (ipykernel)",
   "language": "python",
   "name": "python3"
  },
  "language_info": {
   "codemirror_mode": {
    "name": "ipython",
    "version": 3
   },
   "file_extension": ".py",
   "mimetype": "text/x-python",
   "name": "python",
   "nbconvert_exporter": "python",
   "pygments_lexer": "ipython3",
   "version": "3.11.2"
  }
 },
 "nbformat": 4,
 "nbformat_minor": 5
}
